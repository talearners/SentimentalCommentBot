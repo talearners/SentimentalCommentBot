{
 "cells": [
  {
   "cell_type": "code",
   "execution_count": null,
   "metadata": {},
   "outputs": [],
   "source": [
    "from selenium.webdriver import Chrome\n",
    "from selenium.webdriver.common.keys import Keys\n",
    "from selenium.webdriver.common.by import By\n",
    "from selenium.webdriver.support import expected_conditions as exp\n",
    "from selenium.webdriver.support.wait import (\n",
    "    WebDriverWait,\n",
    "    TimeoutException\n",
    ")\n",
    "from json import (load,dump)\n",
    "from os.path import exists\n",
    "from time import sleep"
   ]
  },
  {
   "cell_type": "code",
   "execution_count": null,
   "metadata": {},
   "outputs": [],
   "source": [
    "driver = Chrome(executable_path=\"./Driver/chromedriver.exe\")\n",
    "driver.get(\"https://instagram.com\")"
   ]
  },
  {
   "cell_type": "code",
   "execution_count": null,
   "metadata": {},
   "outputs": [],
   "source": [
    "if exists(\"Cookies/ig.json\"):\n",
    "    with open(\"Cookies/ig.json\",'r') as file:\n",
    "        for i in load(file):\n",
    "            driver.add_cookie(i)\n",
    "        driver.refresh()"
   ]
  },
  {
   "cell_type": "code",
   "execution_count": null,
   "metadata": {},
   "outputs": [],
   "source": [
    "from Emotion import Emotion_Emoji\n",
    "em = Emotion_Emoji()"
   ]
  },
  {
   "cell_type": "code",
   "execution_count": null,
   "metadata": {},
   "outputs": [],
   "source": [
    "def  comment(element):\n",
    "    Post = element.find_element_by_xpath(\"div/div[3]/div/div/div[1]/div/div[1]/div/span[3]\")\n",
    "    more_click = Post.find_element_by_xpath('span[2]/div')\n",
    "    more_click.click()\n",
    "    span = em.check(Post.find_element_by_tag_name('span').text)\n",
    "    textarea = lambda x : WebDriverWait(element,x).until(\n",
    "        exp.presence_of_element_located((By.XPATH,\"div/div[3]/div/div/section[3]/div/form/textarea\"))\n",
    "    )\n",
    "    textarea(10).click()\n",
    "    sleep(3)\n",
    "    textarea(10).send_keys(span+'\\n')\n"
   ]
  },
  {
   "cell_type": "code",
   "execution_count": null,
   "metadata": {},
   "outputs": [],
   "source": [
    "article = driver.find_elements_by_tag_name('article')\n",
    "for i in article:\n",
    "    comment(i)"
   ]
  }
 ],
 "metadata": {
  "interpreter": {
   "hash": "5b9b28df39bc21fd59c0af7fdc3630cb28fb4e15672577cbf3c1fa2ac8c3f9d1"
  },
  "kernelspec": {
   "display_name": "Python 3.10.2 64-bit",
   "language": "python",
   "name": "python3"
  },
  "language_info": {
   "codemirror_mode": {
    "name": "ipython",
    "version": 3
   },
   "file_extension": ".py",
   "mimetype": "text/x-python",
   "name": "python",
   "nbconvert_exporter": "python",
   "pygments_lexer": "ipython3",
   "version": "3.10.2"
  },
  "orig_nbformat": 4
 },
 "nbformat": 4,
 "nbformat_minor": 2
}
